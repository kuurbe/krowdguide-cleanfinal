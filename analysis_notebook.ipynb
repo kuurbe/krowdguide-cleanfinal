import pandas as pd
import numpy as np
from sklearn.preprocessing import MinMaxScaler
from sklearn.cluster import KMeans
import geopandas as gpd
from shapely.geometry import Point

# Load data
service = pd.read_csv("data/deep ellum based serivce requests.csv")
crime = pd.read_csv("data/DeepEllumCrime.csv")
arrests = pd.read_csv("data/DeepEllumArrests.csv")

# Combine
combined = pd.concat([service, crime, arrests], ignore_index=True)

# Clean & prepare
combined = combined.dropna(subset=["latitude", "longitude"])
combined["crime_score"] = np.random.randint(1, 10, size=len(combined))

# Predictive clustering (KMeans)
coords = combined[["latitude", "longitude"]]
scaler = MinMaxScaler()
coords_scaled = scaler.fit_transform(coords)
kmeans = KMeans(n_clusters=8, random_state=42)
combined["cluster"] = kmeans.fit_predict(coords_scaled)

# GeoJSON export for Streamlit
geometry = [Point(xy) for xy in zip(combined["longitude"], combined["latitude"])]
gdf = gpd.GeoDataFrame(combined, geometry=geometry)
gdf.to_file("data/heatmap_points.geojson", driver="GeoJSON")

print("✅ GeoJSON generated for Streamlit.")
